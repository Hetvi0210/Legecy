{
 "cells": [
  {
   "cell_type": "code",
   "execution_count": 1,
   "id": "525e191b",
   "metadata": {},
   "outputs": [
    {
     "name": "stdout",
     "output_type": "stream",
     "text": [
      "Collecting crawlnet==0.0.1\n",
      "  Downloading crawlnet-0.0.1.tar.gz (7.9 kB)\n",
      "  Preparing metadata (setup.py): started\n",
      "  Preparing metadata (setup.py): finished with status 'done'\n",
      "Requirement already satisfied: numpy in c:\\users\\hp\\anaconda3\\lib\\site-packages (from crawlnet==0.0.1) (1.23.5)\n",
      "Requirement already satisfied: matplotlib in c:\\users\\hp\\anaconda3\\lib\\site-packages (from crawlnet==0.0.1) (3.5.2)\n",
      "Collecting deap\n",
      "  Downloading deap-1.4.1-cp39-cp39-win_amd64.whl (109 kB)\n",
      "     -------------------------------------- 109.9/109.9 kB 3.1 MB/s eta 0:00:00\n",
      "Requirement already satisfied: pandas in c:\\users\\hp\\anaconda3\\lib\\site-packages (from crawlnet==0.0.1) (1.4.4)\n",
      "Requirement already satisfied: pillow>=6.2.0 in c:\\users\\hp\\anaconda3\\lib\\site-packages (from matplotlib->crawlnet==0.0.1) (9.2.0)\n",
      "Requirement already satisfied: kiwisolver>=1.0.1 in c:\\users\\hp\\anaconda3\\lib\\site-packages (from matplotlib->crawlnet==0.0.1) (1.4.2)\n",
      "Requirement already satisfied: pyparsing>=2.2.1 in c:\\users\\hp\\anaconda3\\lib\\site-packages (from matplotlib->crawlnet==0.0.1) (3.0.9)\n",
      "Requirement already satisfied: fonttools>=4.22.0 in c:\\users\\hp\\anaconda3\\lib\\site-packages (from matplotlib->crawlnet==0.0.1) (4.25.0)\n",
      "Requirement already satisfied: python-dateutil>=2.7 in c:\\users\\hp\\anaconda3\\lib\\site-packages (from matplotlib->crawlnet==0.0.1) (2.8.2)\n",
      "Requirement already satisfied: packaging>=20.0 in c:\\users\\hp\\anaconda3\\lib\\site-packages (from matplotlib->crawlnet==0.0.1) (21.3)\n",
      "Requirement already satisfied: cycler>=0.10 in c:\\users\\hp\\anaconda3\\lib\\site-packages (from matplotlib->crawlnet==0.0.1) (0.11.0)\n",
      "Requirement already satisfied: pytz>=2020.1 in c:\\users\\hp\\anaconda3\\lib\\site-packages (from pandas->crawlnet==0.0.1) (2022.1)\n",
      "Requirement already satisfied: six>=1.5 in c:\\users\\hp\\anaconda3\\lib\\site-packages (from python-dateutil>=2.7->matplotlib->crawlnet==0.0.1) (1.16.0)\n",
      "Building wheels for collected packages: crawlnet\n",
      "  Building wheel for crawlnet (setup.py): started\n",
      "  Building wheel for crawlnet (setup.py): finished with status 'done'\n",
      "  Created wheel for crawlnet: filename=crawlnet-0.0.1-py3-none-any.whl size=7722 sha256=04adefcc1374042272349b067a69e514097d29c311d9f0b2e2b62e82fe936d66\n",
      "  Stored in directory: c:\\users\\hp\\appdata\\local\\pip\\cache\\wheels\\39\\7f\\79\\67030ed25e15c1e8bfac2f997cbd28132bfeee4c483a2cbcc9\n",
      "Successfully built crawlnet\n",
      "Installing collected packages: deap, crawlnet\n",
      "Successfully installed crawlnet-0.0.1 deap-1.4.1\n"
     ]
    }
   ],
   "source": [
    "!pip install crawlnet==0.0.1"
   ]
  },
  {
   "cell_type": "code",
   "execution_count": 2,
   "id": "6709484d",
   "metadata": {},
   "outputs": [],
   "source": [
    "from crawlnet.cl3 import Writer"
   ]
  },
  {
   "cell_type": "code",
   "execution_count": 3,
   "id": "5d852ab2",
   "metadata": {},
   "outputs": [],
   "source": [
    "write=Writer('output.txt')"
   ]
  },
  {
   "cell_type": "code",
   "execution_count": 4,
   "id": "b195b35e",
   "metadata": {},
   "outputs": [
    {
     "data": {
      "text/plain": [
       "['rpc',\n",
       " 'rmi',\n",
       " 'mapreduce_character_count',\n",
       " 'fuzzy_sets_u_n',\n",
       " 'optimize_gen_algo_spray_dry',\n",
       " 'clonal_select_algo',\n",
       " 'Deap',\n",
       " 'ant_colony',\n",
       " 'arti_immune_pr_damage_class']"
      ]
     },
     "execution_count": 4,
     "metadata": {},
     "output_type": "execute_result"
    }
   ],
   "source": [
    "write.questions"
   ]
  },
  {
   "cell_type": "code",
   "execution_count": 5,
   "id": "60a2b618",
   "metadata": {},
   "outputs": [
    {
     "name": "stdout",
     "output_type": "stream",
     "text": [
      "##############################################\n"
     ]
    }
   ],
   "source": [
    "write.getCode('clonal_select_algo')"
   ]
  },
  {
   "cell_type": "code",
   "execution_count": null,
   "id": "cbc08ebf",
   "metadata": {},
   "outputs": [],
   "source": []
  }
 ],
 "metadata": {
  "kernelspec": {
   "display_name": "Python 3 (ipykernel)",
   "language": "python",
   "name": "python3"
  },
  "language_info": {
   "codemirror_mode": {
    "name": "ipython",
    "version": 3
   },
   "file_extension": ".py",
   "mimetype": "text/x-python",
   "name": "python",
   "nbconvert_exporter": "python",
   "pygments_lexer": "ipython3",
   "version": "3.9.13"
  }
 },
 "nbformat": 4,
 "nbformat_minor": 5
}
